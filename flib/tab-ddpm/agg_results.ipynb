{
 "cells": [
  {
   "cell_type": "markdown",
   "metadata": {},
   "source": [
    "## Aggregating results to DataFrame"
   ]
  },
  {
   "cell_type": "code",
   "execution_count": 3,
   "metadata": {},
   "outputs": [],
   "source": [
    "import os\n",
    "import lib\n",
    "import numpy as np\n",
    "import pandas as pd\n",
    "\n",
    "DATASETS = [\n",
    "    \"abalone\",\n",
    "    \"adult\",\n",
    "    \"buddy\",\n",
    "    \"california\",\n",
    "    \"cardio\",\n",
    "    \"churn2\",\n",
    "    \"default\",\n",
    "    \"diabetes\",\n",
    "    \"fb-comments\",\n",
    "    \"gesture\",\n",
    "    \"higgs-small\",\n",
    "    \"house\",\n",
    "    \"insurance\",\n",
    "    \"king\",\n",
    "    \"miniboone\",\n",
    "    \"wilt\"\n",
    "]\n",
    "_REGRESSION = [\n",
    "    \"abalone\",\n",
    "    \"california\",\n",
    "    \"fb-comments\",\n",
    "    \"house\",\n",
    "    \"insurance\",\n",
    "    \"king\",\n",
    "]\n",
    "\n",
    "\n",
    "method2exp = {\n",
    "    \"real\": \"exp/{}/ddpm_cb_best/\",\n",
    "    \"tab-ddpm\": \"exp/{}/ddpm_cb_best/\",\n",
    "    \"smote\": \"exp/{}/smote/\",\n",
    "    \"ctabgan+\": \"exp/{}/ctabgan-plus/\",\n",
    "    \"ctabgan\": \"exp/{}/ctabgan/\",\n",
    "    \"tvae\": \"exp/{}/tvae/\"\n",
    "}\n",
    "\n",
    "eval_file = \"eval_catboost.json\"\n",
    "show_std = False\n",
    "df = pd.DataFrame(columns=[\"method\"] + [_[:3].upper() for _ in DATASETS])\n",
    "\n",
    "for algo in method2exp: \n",
    "    algo_res = []\n",
    "    for ds in DATASETS:\n",
    "        if not os.path.exists(os.path.join(method2exp[algo].format(ds), eval_file)):\n",
    "            algo_res.append(\"--\")\n",
    "            continue\n",
    "        metric = \"r2\" if ds in _REGRESSION else \"f1\"\n",
    "        res_dict = lib.load_json(os.path.join(method2exp[algo].format(ds), eval_file))\n",
    "\n",
    "        if algo == \"real\":\n",
    "            res = f'{res_dict[\"real\"][\"test\"][metric + \"-mean\"]:.4f}' \n",
    "            if show_std: res += f'+-{res_dict[\"real\"][\"test\"][metric + \"-std\"]:.4f}'\n",
    "        else:\n",
    "            res = f'{res_dict[\"synthetic\"][\"test\"][metric + \"-mean\"]:.4f}'\n",
    "            if show_std: res += f'+-{res_dict[\"synthetic\"][\"test\"][metric + \"-std\"]:.4f}'\n",
    "\n",
    "        algo_res.append(res)\n",
    "    df.loc[len(df)] = [algo] + algo_res"
   ]
  },
  {
   "cell_type": "code",
   "execution_count": 4,
   "metadata": {},
   "outputs": [
    {
     "data": {
      "text/html": [
       "<div>\n",
       "<style scoped>\n",
       "    .dataframe tbody tr th:only-of-type {\n",
       "        vertical-align: middle;\n",
       "    }\n",
       "\n",
       "    .dataframe tbody tr th {\n",
       "        vertical-align: top;\n",
       "    }\n",
       "\n",
       "    .dataframe thead th {\n",
       "        text-align: right;\n",
       "    }\n",
       "</style>\n",
       "<table border=\"1\" class=\"dataframe\">\n",
       "  <thead>\n",
       "    <tr style=\"text-align: right;\">\n",
       "      <th></th>\n",
       "      <th>method</th>\n",
       "      <th>CHU</th>\n",
       "    </tr>\n",
       "  </thead>\n",
       "  <tbody>\n",
       "    <tr>\n",
       "      <th>0</th>\n",
       "      <td>ctabgan+</td>\n",
       "      <td>0.7024</td>\n",
       "    </tr>\n",
       "  </tbody>\n",
       "</table>\n",
       "</div>"
      ],
      "text/plain": [
       "     method     CHU\n",
       "0  ctabgan+  0.7024"
      ]
     },
     "execution_count": 4,
     "metadata": {},
     "output_type": "execute_result"
    }
   ],
   "source": [
    "df"
   ]
  },
  {
   "cell_type": "code",
   "execution_count": null,
   "metadata": {},
   "outputs": [],
   "source": []
  }
 ],
 "metadata": {
  "kernelspec": {
   "display_name": "Python 3.9.7 ('base')",
   "language": "python",
   "name": "python3"
  },
  "language_info": {
   "codemirror_mode": {
    "name": "ipython",
    "version": 3
   },
   "file_extension": ".py",
   "mimetype": "text/x-python",
   "name": "python",
   "nbconvert_exporter": "python",
   "pygments_lexer": "ipython3",
   "version": "3.9.7"
  },
  "orig_nbformat": 4,
  "vscode": {
   "interpreter": {
    "hash": "a06af253165e97d0c1e75e8bf6d3252013856f30b8177e11b02d3fa36c37333d"
   }
  }
 },
 "nbformat": 4,
 "nbformat_minor": 2
}
