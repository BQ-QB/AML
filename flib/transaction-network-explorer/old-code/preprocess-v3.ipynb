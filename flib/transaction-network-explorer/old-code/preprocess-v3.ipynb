{
 "cells": [
  {
   "attachments": {},
   "cell_type": "markdown",
   "metadata": {},
   "source": [
    "## Imports"
   ]
  },
  {
   "cell_type": "code",
   "execution_count": 1,
   "metadata": {},
   "outputs": [],
   "source": [
    "import os\n",
    "import pandas as pd"
   ]
  },
  {
   "attachments": {},
   "cell_type": "markdown",
   "metadata": {},
   "source": [
    "## Global varibels"
   ]
  },
  {
   "cell_type": "code",
   "execution_count": 2,
   "metadata": {},
   "outputs": [],
   "source": [
    "DATASET  = '100_accts'"
   ]
  },
  {
   "attachments": {},
   "cell_type": "markdown",
   "metadata": {},
   "source": [
    "## Functions"
   ]
  },
  {
   "cell_type": "code",
   "execution_count": 3,
   "metadata": {},
   "outputs": [],
   "source": [
    "def convert_values_to_integers(df, column_name):\n",
    "    # Check if the column exists in the DataFrame\n",
    "    if column_name not in df.columns:\n",
    "        raise ValueError(f\"Column '{column_name}' not found in the DataFrame\")\n",
    "\n",
    "    # Create a conversion map using the unique string values in the specified column\n",
    "    unique_values = df[column_name].unique()\n",
    "    conversion_map = {value: i for i, value in enumerate(unique_values)}\n",
    "\n",
    "    # Create a new DataFrame by replacing the string values with their corresponding integers\n",
    "    new_df = df.copy()\n",
    "    new_df[column_name] = new_df[column_name].map(conversion_map)\n",
    "\n",
    "    return new_df, conversion_map\n",
    "\n",
    "def convert_values_to_integers_using_map(df, column_name, conversion_map):\n",
    "    # Check if the column exists in the DataFrame\n",
    "    if column_name not in df.columns:\n",
    "        raise ValueError(f\"Column '{column_name}' not found in the DataFrame\")\n",
    "\n",
    "    # Update the conversion map with any new unique string values in the specified column\n",
    "    unique_values = df[column_name].unique()\n",
    "    new_unique_values = [value for value in unique_values if value not in conversion_map]\n",
    "    new_indices = range(len(conversion_map), len(conversion_map) + len(new_unique_values))\n",
    "    conversion_map.update({value: i for value, i in zip(new_unique_values, new_indices)})\n",
    "\n",
    "    # Create a new DataFrame by replacing the string values with their corresponding integers\n",
    "    new_df = df.copy()\n",
    "    new_df[column_name] = new_df[column_name].map(conversion_map)\n",
    "\n",
    "    return new_df, conversion_map"
   ]
  },
  {
   "attachments": {},
   "cell_type": "markdown",
   "metadata": {},
   "source": [
    "## Load dataset"
   ]
  },
  {
   "cell_type": "code",
   "execution_count": 4,
   "metadata": {},
   "outputs": [],
   "source": [
    "txs_df = pd.read_csv(f'/home/edvin/Desktop/flib/AMLsim/outputs/{DATASET}/tx_log.csv')\n",
    "#txs_df = txs_df.iloc[0:10000]"
   ]
  },
  {
   "attachments": {},
   "cell_type": "markdown",
   "metadata": {},
   "source": [
    "## Save dataset"
   ]
  },
  {
   "cell_type": "code",
   "execution_count": 7,
   "metadata": {},
   "outputs": [],
   "source": [
    "os.makedirs(f'../datasets/{DATASET}/raw', exist_ok=True)\n",
    "txs_df.to_parquet(f'../datasets/{DATASET}/raw/tx_log.parquet')"
   ]
  }
 ],
 "metadata": {
  "kernelspec": {
   "display_name": "graphviz",
   "language": "python",
   "name": "python3"
  },
  "language_info": {
   "codemirror_mode": {
    "name": "ipython",
    "version": 3
   },
   "file_extension": ".py",
   "mimetype": "text/x-python",
   "name": "python",
   "nbconvert_exporter": "python",
   "pygments_lexer": "ipython3",
   "version": "3.10.10"
  },
  "orig_nbformat": 4
 },
 "nbformat": 4,
 "nbformat_minor": 2
}
